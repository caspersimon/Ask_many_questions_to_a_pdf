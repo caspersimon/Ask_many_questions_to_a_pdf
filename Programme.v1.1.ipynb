{
 "cells": [
  {
   "cell_type": "markdown",
   "id": "a8486dc5-768b-4e62-a2da-8d7626846fb4",
   "metadata": {},
   "source": [
    "## How the programme works\n",
    "\n",
    "**Input**\n",
    "\n",
    "The programme needs two paths:\n",
    "1. A path to a folder that contains pdf-files\n",
    "2. A path to a .txt file that contains a question on each new line\n",
    "\n",
    "**What it then does**\n",
    "\n",
    "It will feed the chatbot your pdfs seperately and ask each question.\n",
    "\n",
    "**Output**\n",
    "\n",
    "The programme will save files to the folder where you have your pdf's also stored.\n",
    "1. One .csv file, which can be opened as a spreadsheet, containing all outputs.\n",
    "2. For each pdf file, it will save a Word document with the output.\n",
    "\n",
    "This notebook was made by https://github.com/caspersimon/Ask_many_questions_to_a_pdf. Feel free to use it and share it with whoever might find this useful.\n",
    "\n",
    "****"
   ]
  },
  {
   "cell_type": "markdown",
   "id": "ad4a8a6d-7686-4a31-be38-6c480a3213b8",
   "metadata": {
    "jp-MarkdownHeadingCollapsed": true
   },
   "source": [
    "### New in v1.1"
   ]
  },
  {
   "cell_type": "markdown",
   "id": "c4fd9bcd-e9af-430b-8b76-d791dfcf06e5",
   "metadata": {},
   "source": [
    "**Added**\n",
    "* Added functionality to save the output as word-documents. Each pdf file will get its own word document.\n",
    "* Added the option to change the standard prompt to be sent before asking a question.\n",
    "\n",
    "**Fixed**\n",
    "* Very long texts are now truncated, so the LLM can handle them.\n",
    "\n",
    "**Other changes**\n",
    "* Progress is now indicated with a progress bar.\n",
    "* The programme now waits for a response longer before timing out (120 seconds vs. 45 seconds in v1.0). This can be changed in the optional settings.\n",
    "* .txt files are no longer saved on your computer, but instead are saved as a dictionary.\n"
   ]
  },
  {
   "cell_type": "markdown",
   "id": "9db3e964-2fc9-4865-ae2d-4e67705f07a4",
   "metadata": {
    "jp-MarkdownHeadingCollapsed": true
   },
   "source": [
    "### More information"
   ]
  },
  {
   "cell_type": "markdown",
   "id": "b8188775-50bd-4a69-9d0f-8c1cf81cd31c",
   "metadata": {},
   "source": [
    "**step-by-step, this is what the code does:**\n",
    "1. First, it itentifies the filenames and paths of pdf-files in a designated folder: `folderpath`.\n",
    "2. It will convert each pdf file into a text that the computer can read. These texts are stored in memory as a dictionary.\n",
    "3. It identifies a list of questions from a designated .txt file: `questionspath`\n",
    "    * You should create this file manually. Each line should contain a new question. You can see the example of how to format this.\n",
    "4. For each combination of question and file, it will send a prompt to the chatbot that starts with \"Hey! I'm trying to understand this paper. Can you help me with a question about this text?\", followed by the text and question.\n",
    "    * you can change this prompt by changing the prompt in the second-to-last cell of code.\n",
    "5. It stores the answers in a .csv file (and a word-file) in the same folder as your pdf's."
   ]
  },
  {
   "cell_type": "markdown",
   "id": "ad486738-0fbe-4bea-9e98-006f2e12d979",
   "metadata": {},
   "source": [
    "****\n",
    "## Setup"
   ]
  },
  {
   "cell_type": "markdown",
   "id": "c6569170-3b2b-4df6-885c-2b839bbfc6b9",
   "metadata": {},
   "source": [
    "### Import/install dependencies"
   ]
  },
  {
   "cell_type": "code",
   "execution_count": 1,
   "id": "962b2409-dae4-495b-a648-39638ecc8596",
   "metadata": {},
   "outputs": [],
   "source": [
    "import os #to index files in folders\n",
    "import PyPDF2 #to convert pdf to txt\n",
    "import cohere #to talk to the LLM\n",
    "import csv #to export to csv\n",
    "import time #to make sure the rate limit is not exceeded\n",
    "import datetime #to name the csv file\n",
    "from tqdm import tqdm #for the progress bar\n",
    "\n",
    "#to work with MS word:\n",
    "from docx import Document \n",
    "from docx.shared import Pt\n",
    "from docx.enum.text import WD_PARAGRAPH_ALIGNMENT\n",
    "from docx.shared import RGBColor\n",
    "from docx.shared import Inches"
   ]
  },
  {
   "cell_type": "markdown",
   "id": "4220170a-c832-406f-b798-7a091dbe67ff",
   "metadata": {},
   "source": [
    "### Defining all the functions"
   ]
  },
  {
   "cell_type": "code",
   "execution_count": 8,
   "id": "ad717018-c923-43d1-89b4-b6bbfb811592",
   "metadata": {},
   "outputs": [],
   "source": [
    "# creates dictionary of filepaths for .pdf files\n",
    "def create_file_dictionary(pdffolder):\n",
    "    file_dict = {}\n",
    "    files = os.listdir(pdffolder)\n",
    "    for file_name in files:\n",
    "        if file_name.endswith('.pdf'):\n",
    "            file_dict[file_name] = {\"path\": os.path.join(pdffolder, file_name), \"storedastxt\": 0, \"text\": \"\"}\n",
    "    return file_dict\n",
    "\n",
    "# takes in the filepaths and returns \n",
    "def maketxt(file_dictionary):\n",
    "    for key, value in file_dictionary.items():\n",
    "        if value[\"storedastxt\"] == 0:\n",
    "            pdf_path = value[\"path\"]\n",
    "            text = pdf_to_text(pdf_path)\n",
    "            if text:\n",
    "                value[\"text\"] = text\n",
    "                value['storedastxt'] = 1\n",
    "                print(f\"Stored {key} as text\")\n",
    "            else:\n",
    "                print(f\"An error occurred storing {key}\")\n",
    "        else:\n",
    "            print(f\"{key} is already stored as text\")\n",
    "\n",
    "# takes one filepath and returns a text of that filepath\n",
    "def pdf_to_text(pdf_path):\n",
    "    try:\n",
    "        with open(pdf_path, 'rb') as pdf_file:\n",
    "            pdf_reader = PyPDF2.PdfReader(pdf_file)\n",
    "            text = ''\n",
    "            for page_num in range(len(pdf_reader.pages)):\n",
    "                page = pdf_reader.pages[page_num]\n",
    "                text += page.extract_text()\n",
    "        return text.replace(\"\\n\", \" \").strip(\"- \")\n",
    "    except Exception as e:\n",
    "        print(f\"Error reading PDF file {pdf_path}: {e}\")\n",
    "        return None\n",
    "\n",
    "# takes one filepath and creates a dictionary of questions, where each line in the\n",
    "# txt file is a new dictionary\n",
    "def create_dictionary_of_questions(questionsfile, delimiter='\\n'):\n",
    "    questions_dict = {}\n",
    "    counter = -1\n",
    "    with open(questionsfile, 'r') as file:\n",
    "        for line in file:\n",
    "            questionstring = line.strip(delimiter)\n",
    "            counter += 1\n",
    "            questionnumber = counter\n",
    "            questions_dict[questionnumber] = {\"question\": questionstring, \"status\": \"active\"}\n",
    "    return questions_dict\n",
    "\n",
    "# combines all the functions and actually writes the csv\n",
    "def write_csv(file_dictionary, questions_list, csv_file_path, api_key, prompt, timeouttime, languagemodel):\n",
    "    answers_dict = {}\n",
    "    countdown = len(questions_list) * len(file_dictionary)\n",
    "    let_totalcount = len(questions_list) * len(file_dictionary)\n",
    "    print(f\"Status: about to start {countdown} requests to the server\")\n",
    "    max_iterations_per_minute = 9\n",
    "    iterations = 0\n",
    "    start_time = time.time()\n",
    "    progress_bar = tqdm(total=let_totalcount, position=0, leave=True)\n",
    "\n",
    "    for file_name, file_info in file_dictionary.items():\n",
    "        file_content = file_info[\"text\"]\n",
    "        answers_dict[file_name] = {}\n",
    "        print(f\"\\n\\nOperating on file: {file_name}\")\n",
    "\n",
    "        for question in questions_list:\n",
    "          #  print(f\"Asking question: {question}\")\n",
    "            try:\n",
    "                co = cohere.Client(api_key=api_key, timeout=timeouttime)\n",
    "                chat_history = [\n",
    "                    {\"role\": \"USER\", \"text\": f\"### Context \\n\\n{prompt} \\n\\n### Text \\n{file_content}.\"},\n",
    "                    {\"role\": \"CHATBOT\", \"text\": \"Yes, I will help you. What is your question?\"},\n",
    "                ]\n",
    "                message = question\n",
    "                response = co.chat(\n",
    "                    message=message, \n",
    "                    chat_history=chat_history,\n",
    "                    model = languagemodel,\n",
    "                    prompt_truncation = \"AUTO\"\n",
    "                )\n",
    "                answer = response.text\n",
    "                answers_dict[file_name][question] = answer\n",
    "                countdown -= 1\n",
    "                progress_bar.update(1)\n",
    "                iterations += 1\n",
    "            #    print(f\"-->Status: total number of requests remaining: {countdown}\")\n",
    "\n",
    "                elapsed_time = time.time() - start_time\n",
    "                if elapsed_time >= 60:\n",
    "                    start_time = time.time()\n",
    "                    iterations = 0\n",
    "\n",
    "            #    time_remaining = (countdown / max_iterations_per_minute) * 60\n",
    "             #   time_remaining_str = str(datetime.timedelta(seconds=int(time_remaining)))\n",
    "             #   print(f\"-->Status: estimated time remaining: {time_remaining_str}\")\n",
    "\n",
    "                if iterations >= max_iterations_per_minute:\n",
    "                    time.sleep(60 - elapsed_time)\n",
    "                    print(\"Paused to avoid exceeding rate limit\")\n",
    "                    start_time = time.time()\n",
    "                    iterations = 0\n",
    "\n",
    "            except Exception as e:\n",
    "                print(f\"\\nAn error occurred: {e} \\n-->Question: {question}, File: {file_name}\\n\")\n",
    "                progress_bar.update(1)\n",
    "\n",
    "    print(\"\\nSlayed. \\n\\nYes. You can now see the beautiful output. xxxx\")\n",
    "    \n",
    "    with open(csv_file_path, 'w', newline='') as csvfile:\n",
    "        writer = csv.DictWriter(csvfile, fieldnames=['File Name'] + questions_list)\n",
    "        writer.writeheader()\n",
    "\n",
    "        for file_name, answers in answers_dict.items():\n",
    "            row_data = {'File Name': file_name}\n",
    "\n",
    "            for question, answer in answers.items():\n",
    "                row_data[question] = answer\n",
    "\n",
    "            writer.writerow(row_data)\n",
    "    return answers_dict\n",
    "\n",
    "\n",
    "def run(pdf_folder, questions_file, api_key, prompt, makedoc, timeouttime, languagemodel):\n",
    "    questions_dict = create_dictionary_of_questions(questions_file)\n",
    "    file_dict = create_file_dictionary(pdf_folder)\n",
    "    maketxt(file_dict)\n",
    "\n",
    "    questions_list = [v[\"question\"] for v in questions_dict.values() if v[\"status\"] == \"active\"]\n",
    "\n",
    "    answers_dict = write_csv(file_dict, questions_list, f\"{pdf_folder}/output.csv\", api_key, prompt, timeouttime, languagemodel)\n",
    "    if makedoc == True:\n",
    "        create_word_files(answers_dict)\n",
    "        \n",
    "\n",
    "# --------------------------------\n",
    "# Functions for creating a docx file\n",
    "\n",
    "\n",
    "\n",
    "# takes a dictionary of answers and creates doc files for each pdf file\n",
    "def create_word_files(main_dict):\n",
    "    for filename, q_and_a in main_dict.items():\n",
    "        doc = Document()\n",
    "        try:\n",
    "            for question, answer in q_and_a.items():\n",
    "                # Add question as header\n",
    "                heading = doc.add_heading(level=1)\n",
    "                run = heading.add_run(question.title())  # Convert to title case\n",
    "                run.bold = True\n",
    "                run.font.name = 'Times New Roman'\n",
    "                run.font.size = Pt(12)\n",
    "                run.font.color.rgb = RGBColor(0, 0, 0)  # Set color to black\n",
    "                paragraph_format = heading.paragraph_format\n",
    "                paragraph_format.alignment = WD_PARAGRAPH_ALIGNMENT.CENTER\n",
    "                paragraph_format.line_spacing = 1.5  # Set line spacing to 1.5\n",
    "    \n",
    "                # Split answer into paragraphs at each newline character\n",
    "                paragraphs = answer.split('\\n')\n",
    "    \n",
    "                for paragraph in paragraphs:\n",
    "                    if paragraph.strip():  # Check if paragraph is not empty\n",
    "                        # Check if paragraph should be formatted as a list\n",
    "                        if paragraph.startswith('- '):  # Bullet list\n",
    "                            para = doc.add_paragraph()\n",
    "                            para.style = 'List Bullet'\n",
    "                            run = add_bold_text(para, paragraph[2:])  # Remove '- ' from start of paragraph\n",
    "                            run.font.name = 'Times New Roman'\n",
    "                            run.font.size = Pt(12)\n",
    "                            para.paragraph_format.line_spacing = 1.5  # Set line spacing to 1.5\n",
    "                        elif paragraph.startswith('1. '):  # Numbered list\n",
    "                            para = doc.add_paragraph()\n",
    "                            para.style = 'List Number'\n",
    "                            run = add_bold_text(para, paragraph[3:])  # Remove '1. ' from start of paragraph\n",
    "                            run.font.name = 'Times New Roman'\n",
    "                            run.font.size = Pt(12)\n",
    "                            para.paragraph_format.line_spacing = 1.5  # Set line spacing to 1.5\n",
    "                        elif paragraph.startswith('### '):  # Header 2\n",
    "                            heading = doc.add_heading(level=2)\n",
    "                            run = heading.add_run(paragraph[4:].title())  # Convert to title case and remove '### ' from start of paragraph\n",
    "                            run.font.name = 'Times New Roman'\n",
    "                            run.font.size = Pt(12)\n",
    "                            run.font.color.rgb = RGBColor(0, 0, 0)  # Set color to black\n",
    "                            paragraph_format = heading.paragraph_format\n",
    "                            paragraph_format.alignment = WD_PARAGRAPH_ALIGNMENT.LEFT\n",
    "                            paragraph_format.line_spacing = 1.5  # Set line spacing to 1.5\n",
    "                        else:  # Normal paragraph\n",
    "                            para = doc.add_paragraph()\n",
    "                            para.paragraph_format.first_line_indent = Inches(0.5)  # Indent first line by 0.5 inch\n",
    "                            run = add_bold_text(para, paragraph)\n",
    "                            run.font.name = 'Times New Roman'\n",
    "                            run.font.size = Pt(12)\n",
    "                            para.paragraph_format.line_spacing = 1.5  # Set line spacing to 1.5\n",
    "    \n",
    "                # Save the document\n",
    "                doc.save(f\"{pdf_folder}/{filename}_summary.docx\")\n",
    "        except Exception as e:\n",
    "            print(f\"\\nAn error occurred with saving to word: {e} \\n-->Document: {doc}\")\n",
    "\n",
    "# checks if text is supposed to be **bold**\n",
    "def add_bold_text(para, text):\n",
    "    if '**' in text:  # Check if text contains bold text\n",
    "        parts = text.split('**')  # Split text into parts at each '**'\n",
    "        for i, part in enumerate(parts):\n",
    "            run = para.add_run(part)\n",
    "            if i % 2 != 0:  # If part is inside '**', make it bold\n",
    "                run.bold = True\n",
    "    else:\n",
    "        run = para.add_run(text)\n",
    "    return run"
   ]
  },
  {
   "cell_type": "markdown",
   "id": "e11d7496-b560-443b-a3f7-a183f8aa7608",
   "metadata": {},
   "source": [
    "***\n",
    "## Getting started: create files and define paths\n",
    "### you should create two files:\n",
    "1. A .txt file with questions you want to ask about the pdf's. Each line will be used as a seperate question.\n",
    "2. A folder where you store all of the pdf's you want to ask questions about\n",
    "\n",
    "\n",
    "You should define them as such:\n",
    "* The path to your folder with pdf's, e.g., `/Users/julius/CCS/awesome_project/Files/pdfs`\n",
    "* The path to your txt with questions, e.g.,  `/Users/julius/CCS/awesome_project/Files/questionsfolder/questions.txt`"
   ]
  },
  {
   "cell_type": "markdown",
   "id": "5a2a7142-9d5c-4415-abfb-23efb6381ebb",
   "metadata": {},
   "source": [
    "#### define using the cell below\n",
    "* change the cell below accordingly"
   ]
  },
  {
   "cell_type": "code",
   "execution_count": 11,
   "id": "d4e65078-3514-40e2-85e9-5ee43d9b4146",
   "metadata": {},
   "outputs": [],
   "source": [
    "api_key = \"qaJbcMpbxNOFmcnJfFufekFZYwpHJbLTaujhD3AP\" # add your own api-key here. \n",
    "pdf_folder = \"/Users/juliuseikmans/Downloads/CCS2_w4\"\n",
    "questions_file = \"/Users/juliuseikmans/Downloads/CCS2_w4/questions.txt\"\n",
    "\n",
    "\n",
    "# ----------------- optional settings ------------------------------------------------------\n",
    "\n",
    "# makes a word-doc for each pdf. Can be changed to False.\n",
    "makedoc = True \n",
    "\n",
    "# You can change the prompt that comes before each question.\n",
    "prompt = \"Hey! I'm trying to understand this paper. Can you help me with a question about this text?\"\n",
    "\n",
    "# Change how long the programme waits before it times out. \n",
    "# Shorter times make the programme faster, but more questions will be skipped\n",
    "timeouttime = 120\n",
    "\n",
    "# Change the language model that is used. See https://docs.cohere.com/docs/models for more info.\n",
    "languagemodel = \"command-r-plus\"\n",
    "\n",
    "#Change how the csv file is saved. If you don't change anything, the file will be saved as the current time.\n",
    "t = time.localtime()\n",
    "current_time = time.strftime(\"%H:%M:%S\", t)\n",
    "csv_file_path = f\"{pdf_folder}/{current_time}.csv\""
   ]
  },
  {
   "cell_type": "markdown",
   "id": "5ef823b6-6767-43d2-9145-9453b5be044b",
   "metadata": {},
   "source": [
    "## Doing the the actual programme\n",
    "* run the cell below to actually do the programme. "
   ]
  },
  {
   "cell_type": "code",
   "execution_count": 12,
   "id": "9b3fb8bf-774a-4ba5-a708-88cd31980f14",
   "metadata": {},
   "outputs": [
    {
     "name": "stderr",
     "output_type": "stream",
     "text": [
      "  1%|▏         | 10/742 [01:34<1:55:52,  9.50s/it]\n"
     ]
    },
    {
     "name": "stdout",
     "output_type": "stream",
     "text": [
      "Stored 1-s2.0-S0738399120306376-main.pdf as text\n",
      "Stored 1-s2.0-S0167811619300102-main.pdf as text\n",
      "Status: about to start 20 requests to the server\n"
     ]
    },
    {
     "name": "stderr",
     "output_type": "stream",
     "text": [
      "  0%|          | 0/20 [00:00<?, ?it/s]"
     ]
    },
    {
     "name": "stdout",
     "output_type": "stream",
     "text": [
      "\n",
      "\n",
      "Operating on file: 1-s2.0-S0738399120306376-main.pdf\n"
     ]
    },
    {
     "name": "stderr",
     "output_type": "stream",
     "text": [
      " 50%|█████     | 10/20 [01:28<01:16,  7.66s/it]"
     ]
    },
    {
     "name": "stdout",
     "output_type": "stream",
     "text": [
      "\n",
      "\n",
      "Operating on file: 1-s2.0-S0167811619300102-main.pdf\n"
     ]
    },
    {
     "name": "stderr",
     "output_type": "stream",
     "text": [
      "100%|██████████| 20/20 [03:37<00:00, 10.87s/it]\n"
     ]
    },
    {
     "name": "stdout",
     "output_type": "stream",
     "text": [
      "\n",
      "Slayed. \n",
      "\n",
      "Yes. You can now see the beautiful output. xxxx\n"
     ]
    }
   ],
   "source": [
    "run(pdf_folder, questions_file, api_key, prompt, makedoc, timeouttime, languagemodel)"
   ]
  },
  {
   "cell_type": "code",
   "execution_count": 75,
   "id": "21b67bec-36e8-4bba-b4fb-0b8ea19e88c1",
   "metadata": {},
   "outputs": [],
   "source": [
    "import re\n",
    "\n",
    "def replace_long_words(text):\n",
    "    return re.sub(r'\\b[\\w\\.\\,\\!\\?\\'\\\"\\\\/]{20,}\\b', '', text)\n",
    "    \n",
    "def replace_non_printable_characters(text):\n",
    "    return re.sub(r'[\\x00-\\x1F\\x7F]{1,}', '', text)\n",
    "\n",
    "# takes in the filepaths and returns \n",
    "def maketxt(file_dictionary):\n",
    "    for key, value in file_dictionary.items():\n",
    "        if value[\"storedastxt\"] == 0:\n",
    "            pdf_path = value[\"path\"]\n",
    "            text = pdf_to_text(pdf_path)\n",
    "            if text:\n",
    "                value[\"text\"] = text\n",
    "                value['storedastxt'] = 1\n",
    "                print(f\"Stored {key} as text\")\n",
    "            else:\n",
    "                print(f\"An error occurred storing {key}\")\n",
    "        else:\n",
    "            print(f\"{key} is already stored as text\")\n",
    "\n",
    "# takes one filepath and returns a text of that filepath\n",
    "def pdf_to_text(pdf_path):\n",
    "    try:\n",
    "        with open(pdf_path, 'rb') as pdf_file:\n",
    "            pdf_reader = PyPDF2.PdfReader(pdf_file)\n",
    "            text = ''\n",
    "            for page_num in range(len(pdf_reader.pages)):\n",
    "                page = pdf_reader.pages[page_num]\n",
    "                text += page.extract_text()\n",
    "        return replace_non_printable_characters(replace_long_words(text.replace(\"\\n\", \" \").replace(\"- \", \"\").replace(\"-\", \"\").replace(\"/\", \"\").strip(\"\\\\\")))\n",
    "    except Exception as e:\n",
    "        print(f\"Error reading PDF file {pdf_path}: {e}\")\n",
    "        return None\n",
    "\n",
    "def run_dev(pdf_folder, questions_file, api_key, prompt, makedoc, timeouttime, languagemodel):\n",
    "    questions_dict = create_dictionary_of_questions(questions_file)\n",
    "    file_dict = create_file_dictionary(pdf_folder)\n",
    "    maketxt(file_dict)\n",
    "    return file_dict"
   ]
  },
  {
   "cell_type": "code",
   "execution_count": 76,
   "id": "95a1133a-f58c-41e5-95cc-ba335ecb0ed0",
   "metadata": {},
   "outputs": [
    {
     "name": "stdout",
     "output_type": "stream",
     "text": [
      "Stored Strategy_Lecture3_Week3.pdf as text\n",
      "Stored chapter3.pdf as text\n",
      "Stored chapter2.pdf as text\n",
      "Stored Strategy_Lecture2_Week2.pdf as text\n",
      "Stored chapter1.pdf as text\n",
      "Stored chapter5.pdf as text\n",
      "Stored chapter4.pdf as text\n",
      "Stored chapter6.pdf as text\n",
      "Stored Strategy_Lecture1_Week1.pdf as text\n"
     ]
    }
   ],
   "source": [
    "filestest = run_dev(pdf_folder, questions_file, api_key, prompt, makedoc, timeouttime, languagemodel)"
   ]
  },
  {
   "cell_type": "code",
   "execution_count": 47,
   "id": "ac507e45-9366-4a15-8e2f-ee4cf12c92e1",
   "metadata": {},
   "outputs": [
    {
     "name": "stdout",
     "output_type": "stream",
     "text": [
      "hello this is a test  \n"
     ]
    }
   ],
   "source": [
    "print(replace_long_words(\"hello this is a test aaaaaaaaaaaaaaaaaaaaaaa\"))"
   ]
  },
  {
   "cell_type": "code",
   "execution_count": 77,
   "id": "4fb71d76-705e-4c61-b453-fd2561cfc2a6",
   "metadata": {},
   "outputs": [
    {
     "name": "stdout",
     "output_type": "stream",
     "text": [
      "{'Strategy_Lecture3_Week3.pdf': {'path': '/Users/juliuseikmans/Downloads/strategy/pre-midterm_pdf/Strategy_Lecture3_Week3.pdf', 'storedastxt': 1, 'text': \"Lecture 3 Extensive Games with Perfect Information STRATEGY Dr Sneha Gaddam 1IMPORTANT WARNING! All class material (lectures, tutorials, feedback lectures, mock exams, any assignments, exam material) is covered by a COPYRIGHT. It is therefore prohibited to distribute any material without prior explicit permission of the instructor outside this course in any digital or any other format. This restriction includes anonymous posting on any open or closed thirdparty online forums or websites, which constitutes a punishable oﬀense . (Please note that even anonymous posts can be typically traced back.) University guidelines also prohibit nonauthorized voice and video recordings. 2 Extensive G ames with Perfect Information     ➢ Strategic game    ➢ Time is absent from the model.   ➢ It doesn’t  allow for the s equential structure of decision making.   ➢ Assumes  that each decision maker chooses her plan of action once and for all.   ➢ A player is not allowed to change her plan as events unfold.   ➢ Extensive game   ➢ The model describes the sequential structure of decision making explicitly   ➢ Allows us to study situations in w hich each decision maker is free to change her  mind as events unfold.  3 Example  of an Extensive G ame    Example  154.1 : Entry Game         Challenger                  In             Out            Incumbent           (1,2)        Acquiesce              Fight          (2 , 1)  (0 , 0)      Note:  Acquiesce means accommodate ( not fight)              4    Example  1: Miniultimatum game        Proposer       Stingy      Generous      Responder      Responder     Accept   Reject    Accept   Reject     (9 , 1)   (0 , 0)    (5 , 5)   (0 , 0)                5 Specification of the mini utlimatum game    Preferences:     U1(Stingy,Accept)=9;    U2(Stin gy,Accept)=1    U1(Stingy,Reject)=0;    U2(Stin gy,Reject)=0    U1(Generous,Accept)=5;   U2(Gene rous,Accept)=5    U1(Generous,Reject)=0;   U2(Gene rous,Reject)=0                              6 Strategies     A strategy  of a player in an extensive game is a com plete action plan, that is, it specifies an action  for every  situation where it is her turn to make a move!   In the mini ultimatum game , responder has 4 strategies   1. A A = Accept after S tingy, Accept after Gene rous   2. A R = Accept after Stingy, Reject after Gene rous   3. R A = Reject after Stingy, Accept after Gene rous  4. R R = Reject after Stingy, Reject after Gene rous         7 How to obtain NE  of an extensive game?    Convert the extensive game into a strategic form game, by renaming the strategies in  the extensive form as actions in the strategic form and making the payoffs to a terminal  history generated by a strategy profile as the payoffs to an action profile.   • Note : ◃  A terminal history : a sequence of actions that specifies what may happen in the  game from the start of the game to an action that ends the game.          Any extensive form game can be written in strategic form:       Responder     A A A R R A R R    Propo ser     Stingy  9 , 1 9 , 1 0 , 0 0 , 0    Generous  5 , 5 0 , 0 5 , 5 0 , 0        \\uf0de  pure strategy Nash equilibria:  1. (Stingy, A A)           2. (Stingy, A R)           3. (Generous, R A)  8   Example 2 :                                  1  C D  2  1  E F  G H 2,0  3,1  1,2 0,0 9     The above extensive game is converted as below                          NE: (CH, F), (DG, E), (DH, E)         Nash equilibrium   The set of Nash equilibria of any extensive game with perfect information is the set of  Nash equilibria of its strategic form     1, 2 3, 1   0, 0 3, 1   2, 0 2, 0   2, 0 2, 0 CG  CH   DG  DH E F 10 ➢ The notion of Nash Equilibrium ignores the sequential structure of an extensive game.   ➢ It treats strategies as choices made once and for all before play begins.   ➢ So, the steady state to which a NE corresponds may not be robust.   ➢ For example, in the previous g ame (CH, F) is one of the NE. But when it’s player 1’s turn  to move after history E, will she really choose H over G?    ➢ We need to define a new concept that models a robust steady state.   ➢ For this, we define a subgame . For any non terminal history h, the subgame  following h is the  part of the game that remains after h has occurred.   ➢ Subgame Perfect Equilibrium  is a refinement of the  NE for extensive games.      11       • The mini ultimatum game has three subgames:    1. The whole game    2. The game after Stingy    3. The game after Generous          Proposer          Stingy         Generous           Responder           Responder        Accept      Reject      Accept     Reject          (9 , 1)   (0 , 0)        (5 , 5)   (0 , 0)       12 Subgame perfect equilibrium    (Selten, 1965)  – SPNE     A subgame perfect equilibrium is a strategy profile s* with the property that in no  subgame can any player i do better by choosing a strategy different from si*, given that  every other player j adheres to strategy sj*.     \\uf0de every subgame perfect equilibrium is a Nash equi librium    \\uf0de a subgame perfect equilibrium induces a Nash equilibrium in every subgame    \\uf0de not every Nash equilibrium is subgame perfect  13                                                                                                                                                                                                                                    • In the mini ultimatum game:         Proposer       Stingy      Generous      Responder      Responder     Accept   Reject    Accept   Reject     (9 , 1)   (0 , 0)    (5 , 5)   (0 , 0)       1. (Stingy, A A) is N.E. and subgame perfect   2. (Stingy, A R) is N.E. but not subgame perfect   3. (Generous, R A) is N.E. but not subgame perfect, this N.E. uses incredible threat        14 So in the  extensive game  of example 2 , (CH, F) and (DH, E) are NE but not SPNE;   (DG, E) is SPNE.     ➢ Motivation for subgame perfection: players may trem ble    ➢ Finite horizon : the set of subgame perfect equilibria can exactly be identified with     backward induction     ➢ Every finite extensive game with perfect information has a subgame perfect equilibrium                      15   Finding SPNE in finite horizon games using Backward Induction     ➢ An extensive game is finite  if it has finite horizon (i.e., the length of the longest terminal history is  finite), and the number of terminal histories is finite.   ➢ Length of a subgame : the length of the longest history in the subgame   Backward Induction   1. Find the optimal actions of the players who move in the subgames of length 1   2. Taken the actions found in step 1 as given, find the optimal actions of the players who move first in the  subgames of length 2.   3. Continue this procedure, until you reach the start of the game . 16 Exercise  for you     Find the SPNE of the Entry Game using backward induction.                                            Challenger                  In             Out            Incumbent           (1,2)        Acquiesce              Fight          (2 , 1)   (0 , 0)                17 Illustration: Stackelberg's model of duopoly     Cournot setting where firms move sequentially      𝑃𝑑(𝑄)={(α−Q)    𝑖𝑓 𝑄≤α  0               𝑖𝑓 𝑄>α         Ci(qi) = cq i    Preferences:  πi = q i Pd(𝑞1+𝑞2) Ci(qi) = {𝑞𝑖 (α−c−𝑞1−𝑞2)    𝑖𝑓 𝑄≤α  −𝑐𝑞𝑖                                  𝑖𝑓 𝑄>α       18 Subgame perfect equilibrium Stackelberg: use backward induction   F.O.C.: if Q  < α, set d(π2) d(q2)  = 0  (+check S .O.C.)   \\uf0de α c q1 q2 q2 = 0 \\uf0de q2 = (α c q1)2    Thus,  𝑏2(𝑞1)={(α−c−𝑞1)2  𝑖𝑓 𝑞1≤α−c  0                           𝑖𝑓 𝑞1>α−c    Player 1 anticipates player 2's response and maximizes     π1 = q 1( α c q1 (α c q1)2) = q 1( α c q1)2  F.O.C.: (α c q1)2 q12 = 0 (check S.O.C.)     Subgame perfect outcome  Payoff  Subgame perfect equilibrium   q1* = (α c)2 π1 * = (α c)28    q1* = (α c)2  q2* = (α c)4 π2 * = (α c)216 𝑏2(𝑞1)={(α−c−𝑞1)2  𝑖𝑓 𝑞1≤α−c  0                           𝑖𝑓 𝑞1>α−c    \\uf0de firm 1 is more aggressive and earns higher profit than in Cournot duopoly[(α c)29] 19     References for figures and tables:     • Osborne, M. J. (2004).  An introduction to game theory . New York: Oxford  University Press.    20\"}, 'chapter3.pdf': {'path': '/Users/juliuseikmans/Downloads/strategy/pre-midterm_pdf/chapter3.pdf', 'storedastxt': 1, 'text': '                                                                                                                                                                                                                                                                                                                                                                                                                                                                                                                                                                                                                                                                                                                                                                                                                                                                                                                                                                                                                                                                                                                                                                                                                                                                                                                                                                                                                                                                                                                                                                                                                                                                                                                                                                                                                                                                                                                                                                                                                                                                                                                                                                                                                                                                                                                                                                                                                                                                                                                                                                                                                                                                                                                                                                                                                                                                                                                                                                                                                                                                                                                                                                                                                                                                                                                                                                                                                                                                                                                                                                                                                                                                                                                                                                                                                                                                                                                                                                                                                                                                                                                                                                                                                                                                                                                                                                                                                                                                                                                                                                                                                                                                                                                                                                                                                                                                                                                                                                                                                                                                                                                                                                                                                                                                                                                                                                                                                                                                                                                                                                                                                                                                                                                                                                                                                                                                                                                                                                                                                                                                                                                                                                                                                                                                                                                                                                                                                                                                                                                                                                                                                                                                                                                                                                                                                                                                                                                                                                                                                                                                                                                                                                                                                                        '}, 'chapter2.pdf': {'path': '/Users/juliuseikmans/Downloads/strategy/pre-midterm_pdf/chapter2.pdf', 'storedastxt': 1, 'text': '                                                                                                                                                                                                                                                                                                                                                                                                                                                                                                                                                                                                                                                                                                                                                                                                                                                                                                                                                                                                                                                                                                                                                                                                                                                                                                                                                                                                                                                                                                                                                                                                                                                                                                                                                                                                                                                                                                                                                                                                                                                                                                                                                                                                                                                                                                                                                                                                                                                                                                                                                                                                                                                                                                                                                                                                                                                                                                                                                                                                                                                                                                                                                                                                                                                                                                                                                                                                                                                                                                                                                                                                                                                                                                                                                                                                                                                                                                                                                                                                                                                                                                                                                                                                                                                                                                                                                                                                                                                                                                                                                                                                                                                                                                                                                                                                                                                                                                                                                                                                                                                                                                                                                                                                                                                                                                                                                                                                                                                                                                                                                                                                                                                                                                                                                                                                                                                                                                                                                                                                                                                                                                                                                                                                                                                                                                                                                                                                                                                                                                                                                                                                                                                                         '}, 'Strategy_Lecture2_Week2.pdf': {'path': '/Users/juliuseikmans/Downloads/strategy/pre-midterm_pdf/Strategy_Lecture2_Week2.pdf', 'storedastxt': 1, 'text': 'Copyright UvATh.sce.sc  Ga.scm.sce.sc Mi.scx.sce.scd.sc   Ro.scc.sck.sc Pa.scp.sce.scr.sc   Lecture 2 Lecture 2 Mixed strategy equilibrium STRATEGY Dr Sneha GaddamCopyright UvATh.sce.sc  Ga.scm.sce.sc Mi.scx.sce.scd.sc   Ro.scc.sck.sc Pa.scp.sce.scr.sc   IMPORTANT WARNING! All class material (lectures, tutorials, feedback lectures, mock exams, any assignments, exam material) is covered by a COPYRIGHT. It is therefore prohibited to distribute any material without prior explicit permission of the instructor outside this course in any digital or any other format. This restriction includes anonymous posting on any open or closed thirdparty online forums or websites, which constitutes a punishable oﬀense . (.) University guidelines also prohibit nonauthorized voice and video recordings. 229Copyright UvATh.sce.sc  Ga.scm.sce.sc Mi.scx.sce.scd.sc   Ro.scc.sck.sc Pa.scp.sce.scr.sc    The Penalty Game Mixed Strategy Equilibrium Rock Paper Scissors Example 329Copyright UvATh.sce.sc  Ga.scm.sce.sc Mi.scx.sce.scd.sc   Ro.scc.sck.sc Pa.scp.sce.scr.sc   Th.sce.sc  g.sca.scm.sce.sc Find the Nash equilibrium of the following game. Goalkeeper Left Right KickerLeft1;11;1 Right1;11;1 429Copyright UvATh.sce.sc  Ga.scm.sce.sc Mi.scx.sce.scd.sc   Ro.scc.sck.sc Pa.scp.sce.scr.sc   Th.sce.sc  g.sca.scm.sce.sc Find the Nash equilibrium of the following game. Goalkeeper Left Right KickerLeft1;11;1 Right1;11;1 IThere is no pure strategy NE of this game. 429Copyright UvATh.sce.sc  Ga.scm.sce.sc Mi.scx.sce.scd.sc   Ro.scc.sck.sc Pa.scp.sce.scr.sc    The Penalty Game Mixed Strategy Equilibrium Rock Paper Scissors Example 529Copyright UvATh.sce.sc  Ga.scm.sce.sc Mi.scx.sce.scd.sc   Ro.scc.sck.sc Pa.scp.sce.scr.sc   Mi.scx.sce.scd.sc   Mixed strategy Amixed strategy of a player in a strategic game is a probability distribution over the player’s actions. ISuppose that the goalkeeper chooses to go left with probability1 2 (this means choosing right with probability1 2) IWhat should the kicker do? 629Copyright UvATh.sce.sc  Ga.scm.sce.sc Mi.scx.sce.scd.sc   Ro.scc.sck.sc Pa.scp.sce.scr.sc   Wh.sca.sct.sc  t.sch.sce.sc  d.sco.sc?  2and 1 with probability1 2  2 and1 with probability1 2 IWhat is the value of going left to the kicker? IThe value is the expected payoﬀ from choosing left (That is, we use von Neumann Morgenstern (vNM) preferences) 1 2(1) +1 2(1) =0 ISimilarly, the expected payoﬀ from choosing right is 1 2(1) +1 2(1) =0 ISo the kicker is indiﬀerent between Left and Right. IThe kicker is also indiﬀerent between choosing Left and Right with any probability. 729Copyright UvATh.sce.sc  Ga.scm.sce.sc Mi.scx.sce.scd.sc   Ro.scc.sck.sc Pa.scp.sce.scr.sc   Mi.scx.sce.scd.sc   ISuppose the kicker chooses to kick Left with probability1 2 (meaning chooses Right with probability1 2) IWhat should the goalkeeper do? IIf the goalkeeper goes Left, then she gets the following expected payoﬀ 1 2(1) +1 2(1) =1 2=0 IIf the goalkeeper goes Right, then she gets the following expected payoﬀ: 1 2(1) +1 2(1) =0 IThe goalkeeper is clearly also indiﬀerent between choosing Left and Right when the Kicker chooses Left with probability1 2 IThis is a Mixed Strategy Equilibrium 829Copyright UvATh.sce.sc  Ga.scm.sce.sc Mi.scx.sce.scd.sc   Ro.scc.sck.sc Pa.scp.sce.scr.sc   NOTE: Pu.scr.sce.sc  Na.scs.sch.sc   when we refer to equilibria that are not using mixed strategies. 929Copyright UvATh.sce.sc  Ga.scm.sce.sc Mi.scx.sce.scd.sc   Ro.scc.sck.sc Pa.scp.sce.scr.sc   Mi.scx.sce.scd.sc   IIf, instead, the Kicker chooses to go Left with probability3 4 IThen if the goalkeeper chooses Left, she gets an expected payoﬀ of3 4(1) +1 4(1) =0:5. IIf the goalkeeper chooses Right instead, she gets 3 4(1) +1 4(1) =0:5 ISo, for the goalkeeper going Left gives a higher payoﬀ than Right when Kicker chooses to mix between Left and Right with probabilities3 4and 14 respectively. IObviously in that case, the goalkeeper will always choose to play Left (that is, choose Left with probability 1). 1029Copyright UvATh.sce.sc  Ga.scm.sce.sc Mi.scx.sce.scd.sc   Ro.scc.sck.sc Pa.scp.sce.scr.sc   Mi.scx.sce.scd.sc   IBut (in the case goalkeeper chooses Left) then, choosing to kick Left is not a best response anymore for the Kicker: if the Kicker knows that the goalkeeper chooses Left for sure, the Kicker would (should) choose to kick Right. IBut if the kicker chooses to kick Right, then the best response of the goalkeeper is NOT to go Left, but go Right. IWe can keep going like this forever...  kicker chooses to kick Left with probability 3 =4. 1129Copyright UvATh.sce.sc  Ga.scm.sce.sc Mi.scx.sce.scd.sc   Ro.scc.sck.sc Pa.scp.sce.scr.sc   Mi.scx.sce.scd.sc   IIn equilibrium, each player is willing to mix only because she is indiﬀerent between the pure strategies she is playing with a positive probability. IA player who selects a mixed strategy is always indiﬀerent between two pure strategies and an entire continuum of mixed strategies. IWhat matters is that a player’s strategy appears random to other players; it does not have to be random. 1229Copyright UvATh.sce.sc  Ga.scm.sce.sc Mi.scx.sce.scd.sc   Ro.scc.sck.sc Pa.scp.sce.scr.sc    The Penalty Game Mixed Strategy Equilibrium Rock Paper Scissors Example 1329Copyright UvATh.sce.sc  Ga.scm.sce.sc Mi.scx.sce.scd.sc   Ro.scc.sck.sc Pa.scp.sce.scr.sc   Ro.scc.sck.sc, Pa.scp.sce.scr.sc  Rules of the game: IRock beats Scissors; Paper beats Rock; Scissors beats paper. IDenote a win by a 1, a loss by 1 and a tie by 0 Question 1 Set up the game matrix and ﬁnd all (mixed strategy and pure) Nash equilibria. 1429Copyright UvATh.sce.sc  Ga.scm.sce.sc Mi.scx.sce.scd.sc   Ro.scc.sck.sc Pa.scp.sce.scr.sc    Pa.scg.sce.sc one.taboldstyle IGame matrix is: 1529Copyright UvATh.sce.sc  Ga.scm.sce.sc Mi.scx.sce.scd.sc   Ro.scc.sck.sc Pa.scp.sce.scr.sc    Pa.scg.sce.sc two.taboldstyle IStep I: Check for pure strategy equilibria: Don’t exist. IStep II: Check for mixed strategy equilibria. 4 possibilities. ICase 1: One player plays pure, other player strictly mixed: Don’t exist. ICase 2: Both players use at least two actions (that means two or more) with positive probability. Don’t exist. (Intuition below) ISuppose that player 1’s mixed strategy assigns positive probability to Rock and to Paper. IThen player 2’s expected payoﬀ to Paper exceeds her expected payoﬀ to Rock, so in any such equilibrium player 2 must assign positive probability only to Paper and Scissors. IPlayer 1’s expected payoﬀs to Rock and Paper are equal only if   3toScissors. IButthenplayer1’ payoﬀs to Rock and Paper. So there is no mixed strategy equilibrium in which player 1 assigns positive probability only to Rock and to Paper. 1629Copyright UvATh.sce.sc  Ga.scm.sce.sc Mi.scx.sce.scd.sc   Ro.scc.sck.sc Pa.scp.sce.scr.sc    Pa.scg.sce.sc three.taboldstyle ICase 3: Given the symmetry of the game, the same argument implies that there is no equilibrium in which player 1 assigns positive probability to ONLY two actions, nor any equilibrium in which player 2 assigns positive probability to ONLY two actions. Don’t exist. ICase 4: The remaining possibility is that each player assigns positive probability to all three of her actions. IForplayer1,let p1=Probability (Rock),p2=Probability (Paper )and p3=Probability (Scissors ) IFor player 2, let q1=Probability (Rock),q2=Probability (Paper )and q3=Probability (Scissors ) 1729Copyright UvATh.sce.sc  Ga.scm.sce.sc Mi.scx.sce.scd.sc   Ro.scc.sck.sc Pa.scp.sce.scr.sc    Pa.scg.sce.sc four.taboldstyle IColumn player (Player 2) chooses q1;q2;q3that make row player (Player 1) indiﬀerent: IThe expected payoﬀ of Rock to Player 1, E1[Rock]is I0q1+ (1)q2+1q3=q2+q3 IThe expected payoﬀ of Paper to Player 1, E1[Paper ]is I1q1+ (0)q2+ (1)q3=q1q3 IThe expected payoﬀ of Scissors to Player 1, E1[Scissors ]is I(1)q1+ (1)q2+0q3=q1+q2 IPlayer 1’s actions all yield her the same expected payoﬀ if and only if there is a value of k for which E1[Rock] =E1[Paper ] =E1[Scissors ] =k q2+q3=k q1q3=k q1+q2=k 1829Copyright UvATh.sce.sc  Ga.scm.sce.sc Mi.scx.sce.scd.sc   Ro.scc.sck.sc Pa.scp.sce.scr.sc    Pa.scg.sce.sc five.taboldstyle IAdding the three equations we deduce k=0, and hence q1=q2=q3=1 3. A similar calculation for player 2 yields p1=p2=p3=1 3. , in which each player uses the strategy (1 3;1 3;1 3) 1929Copyright UvATh.sce.sc  Ga.scm.sce.sc Mi.scx.sce.scd.sc   Ro.scc.sck.sc Pa.scp.sce.scr.sc    The Penalty Game Mixed Strategy Equilibrium Rock Paper Scissors Example 2029Copyright UvATh.sce.sc  Ga.scm.sce.sc Mi.scx.sce.scd.sc   Ro.scc.sck.sc Pa.scp.sce.scr.sc    a.scl.scl.sc p.scu.scr.sce.sc a.scn.scd.sc   NE (pureandmixed)Nashequilibria? IIn2 the mixed strategies IConsider the following game Player 2 L (q) R (1q) Player 1L (p)2;10;0 R (1p)0;01;2 ICheck for pure strategy NE: there are two pure strategy NE; (L;L) and ( R;R). INext, check for mixed strategy NE: following the procedure as shown in the next few slides. 2129Copyright UvATh.sce.sc  Ga.scm.sce.sc Mi.scx.sce.scd.sc   Ro.scc.sck.sc Pa.scp.sce.scr.sc    one.taboldstyle’s.sc b.sce.scs.sct.sc  2 L (q) R (1q) 1L (p)2;10;0 R (1p)0;01;2IExpected payoﬀ to IL is 2 q+ (1q)0=2q IR isq0+ (1q)1=1q IIf 2q>1qorq>1=3 Ibest response is L (or equivalently p = 1) IIf 2q<1qorq<1=3 Ibest response is R (or equivalently p = 0) IIf 2q=1qorq=1=3 Ihe is indiﬀerent Ibest response is any p2[0;1] 2229Copyright UvATh.sce.sc  Ga.scm.sce.sc Mi.scx.sce.scd.sc   Ro.scc.sck.sc Pa.scp.sce.scr.sc    one.taboldstyle’s.sc b.sce.scs.sct.sc  Ip=1 ifq>1=3 Ip=0 ifq<1=3 Ip2[0;1]ifq=1=3B1(q) =8 >< >:f1g;ifq>1=3 [0;1];ifq=1=3 f0g;ifq<1=3 2329Copyright UvATh.sce.sc  Ga.scm.sce.sc Mi.scx.sce.scd.sc   Ro.scc.sck.sc Pa.scp.sce.scr.sc    one.taboldstyle’s.sc b.sce.scs.sct.sc  q pB1(q)1 11 3 1 3 2429Copyright UvATh.sce.sc  Ga.scm.sce.sc Mi.scx.sce.scd.sc   Ro.scc.sck.sc Pa.scp.sce.scr.sc    two.taboldstyle’s.sc b.sce.scs.sct.sc  2 L (q) R (1q) 1L (p)2;10;0 R (1p)0;01;2IExpected payoﬀ of Iplaying L is 1 p+ (1p)0=p Iplaying R is p0+ (1p)2=2(1p) IIfp>2(1p)orp>2=3 Ibest response is L ( equivalently q = 1) IIfp<2(1p)orp<2=3 Ibest response is R ( equivalently q = 0) IIfp=2(1p)orp=2=3 Ihe is indiﬀerent Ibest response is any p2[0;1] 2529Copyright UvATh.sce.sc  Ga.scm.sce.sc Mi.scx.sce.scd.sc   Ro.scc.sck.sc Pa.scp.sce.scr.sc    two.taboldstyle’s.sc b.sce.scs.sct.sc  Iq=1 ifp>2=3 Iq=0 ifp<2=3 Iq2[0;1]ifp=2=3B2(p) =8 >< >:f1g;ifp>2=3 [0;1];ifp=2=3 f0g;ifp<2=3 2629Copyright UvATh.sce.sc  Ga.scm.sce.sc Mi.scx.sce.scd.sc   Ro.scc.sck.sc Pa.scp.sce.scr.sc   Be.scs.sct.sc   o.scf.sc  one.taboldstyle a.scn.scd.sc two.taboldstyle q pB2(p) B1(q)1 1 2 31 3 1 32 3 INash equlibria are (0;0),(1;1)and(2=3;1=3)2729Copyright UvATh.sce.sc  Ga.scm.sce.sc Mi.scx.sce.scd.sc   Ro.scc.sck.sc Pa.scp.sce.scr.sc   An.sc : t.sch.sce.sc c.sca.scs.sce.sc w.sci.sct.sch.sc   Find all Nash equilibria in this game. Player 2 Left Middle Right Up 1,0 10 ;1 0 ;1 Player 1 Sideways 1;0 2,2 12;4 Down 0 ;2 823,1 2 ;0 2829Copyright UvATh.sce.sc  Ga.scm.sce.sc Mi.scx.sce.scd.sc   Ro.scc.sck.sc Pa.scp.sce.scr.sc   IThe equilibrium is in mixed strategies. IDenote Player 1’s probability of Upbypand Player 2’s probability of Leftbyq. ISideways andMiddleare strictly dominated strategies, so we can forget about them (eliminate them from the matrix). IIn equilibrium, Player 1 must be indiﬀerent between Upand Down, so q(1) + (1q)(0) =q(0) + (1q)(2) IThis yields q=2=3. IPlayer 2 must be indiﬀerent between LeftandRight, so p(0) + (1p)(2) =p(1) + (1p)(0) IThis yields p=2=3. ISo, the NE is given by the mixed strategy (p;q) = (2=3;2=3) 2929'}, 'chapter1.pdf': {'path': '/Users/juliuseikmans/Downloads/strategy/pre-midterm_pdf/chapter1.pdf', 'storedastxt': 1, 'text': '                                                                                                                                                                                                                                                                                                                                                                                                                                                                                                                                                                                                                                                                                                                                                                                                                                                                                                                                                                                                                                                                                                                                                                                                                                                                                                                                                                                                                                                                                                                                                                        '}, 'chapter5.pdf': {'path': '/Users/juliuseikmans/Downloads/strategy/pre-midterm_pdf/chapter5.pdf', 'storedastxt': 1, 'text': '                                                                                                                                                                                                                                                                                                                                                                                                                                                                                                                                                                                                                                                                                                                                                                                                                                                                                                                                                                                                                                                                                                                                                                                                                                                                                                                                                                                                                                                                                                                                                                                                                                                                                                                                                                                                                                                                                                                                                                                                                                                                                                                                                                                                                                                                                                                                                                                                                                                                                                                                                                                                                                                                                                                                                                                                                                                                                                                                                                                                                                                                                                                                                                                                                                                                                                                                                                                                                                                                                                                                                                                                                                                                                                                                                                                                                                                                                                                                                                                                                                                                                                                                                                                                                                                                                                                                                                                                                                                                                                                                                                                                                                                                                                                                                                                                                                                                           '}, 'chapter4.pdf': {'path': '/Users/juliuseikmans/Downloads/strategy/pre-midterm_pdf/chapter4.pdf', 'storedastxt': 1, 'text': '                                                                                                                                                                                                                                                                                                                                                                                                                                                                                                                                                                                                                                                                                                                                                                                                                                                                                                                                                                                                                                                                                                                                                                                                                                                                                                                                                                                                                                                                                                                                                                                                                                                                                                                                                                                                                                                                                                                                                                                                                                                                                                                                                                                                                                                                                                                                                                                                                                                                                                                                                                                                                                                                                                                                                                                                                                                                                                                                                                                                                                                                                                                                                                                                                                                                                                                                                                                                                                                                                                                                                                                                                                                                                                                                                                                                                                                                                                                                                                                                                                                                                                                                                                                                                                                                                                                                                                                                                                                                                                                                                                                                                                                                                                                                                                                                                                                                                                                                                                                                                                                                                                                                                                                                                                                                                                                                                                                                                                                                                                                                                                                                                                                                                                                                                                                                                                                                                                                                                                                                                                                                                                                                                                                                                                                                                                                                                                                                                                                                                                                                                                                                                                                                                                                                                                                                                                                                                                                                                                                                                                                                                                                                                                                                                                                                                                                                                                                                                                                                                                                                                                                                                                                                                                                                                                                                                                                                                                                                                                                                                                                                                                                                                                                                                                                                                                                                                                                                                                                                                                                                                                                                                                                                                                                                                                                                                                                                                                                                                                                                                                                                                                                                                                                                                                                                                                                                                                                                                                                                                                                                                                                                            '}, 'chapter6.pdf': {'path': '/Users/juliuseikmans/Downloads/strategy/pre-midterm_pdf/chapter6.pdf', 'storedastxt': 1, 'text': '                                                                                                                                                                                                                                                                                                                                                                                                                                                                                                                                                                                                                                                                                                                                                                                                                                                                                                                                                                                                                                                                                                                                                                                                                                                                                                                                                                                                                                                                                                                                                                                                                                                                                                                                                                                                                                                                                                                                                                                                                                                                                                                                                                                                                                                                                                                                                                                                                                                                                                                                                                                                                                                                                                                                                                                                                                                                                                                                                                                                                                                                                                                                                                                                                                                                                                                                                                                                                                                                                                                                                                                                                                                                                                                                                                                                                                                                                                                     '}, 'Strategy_Lecture1_Week1.pdf': {'path': '/Users/juliuseikmans/Downloads/strategy/pre-midterm_pdf/Strategy_Lecture1_Week1.pdf', 'storedastxt': 1, 'text': 'Copyright  t.sco.sc Ga.scm.sce.sc   Fo.scr.scm.sc Ga.scm.sce.scs.sc  a.sc Ga.scm.sce.sc: Na.scs.sch.sc      a.scn.scd.sc Pr.sci.scc.sce.sc       Lecture 1 Introduction to Game Theory STRATEGY Dr Sneha GaddamCopyright  t.sco.sc Ga.scm.sce.sc   Fo.scr.scm.sc Ga.scm.sce.scs.sc  a.sc Ga.scm.sce.sc: Na.scs.sch.sc      a.scn.scd.sc Pr.sci.scc.sce.sc        WARNING! This is a copyrighted property of University of Amsterdam. . Allclassmaterial (lectures, tutorials, feedback lectures, mock exams, any assignments, exam material) is covered by a COPYRIGHT. It is therefore prohibited to distribute any material without prior explicit permission of the instructor outside this course in any digital or any other format. This restriction includes anonymous posting on any open or closed thirdparty online forums or websites, which constitutes a punishable oﬀense . (.) University guidelines also prohibit nonauthorized voice and video recordings. 277Copyright  t.sco.sc Ga.scm.sce.sc   Fo.scr.scm.sc Ga.scm.sce.scs.sc  a.sc Ga.scm.sce.sc: Na.scs.sch.sc      a.scn.scd.sc Pr.sci.scc.sce.sc        Introduction to Game Theory Strategic Form Games Solving a Game: Nash Equilibrium Dominated strategies Applications Quantity and Price Competition Cournot competition Bertrand competition References 377Copyright  t.sco.sc Ga.scm.sce.sc   Fo.scr.scm.sc Ga.scm.sce.scs.sc  a.sc Ga.scm.sce.sc: Na.scs.sch.sc      a.scn.scd.sc Pr.sci.scc.sce.sc        Introduction to Game Theory Strategic Form Games Solving a Game: Nash Equilibrium Dominated strategies Applications Quantity and Price Competition Cournot competition Bertrand competition   t.sco.sc Ga.scm.sce.sc   Fo.scr.scm.sc Ga.scm.sce.scs.sc  a.sc Ga.scm.sce.sc: Na.scs.sch.sc      a.scn.scd.sc Pr.sci.scc.sce.sc       Ga.scm.sce.sc  IIn simple words, Game Theory is a method of studying strategic situations. IStrategic situations: It’s a setting where the outcomes that aﬀect someone depend not only on their own actions but also on the actions of other players. IGame theory is used in economics, political science, law, biology, sports and so many other areas. 577Copyright  t.sco.sc Ga.scm.sce.sc   Fo.scr.scm.sc Ga.scm.sce.scs.sc  a.sc Ga.scm.sce.sc: Na.scs.sch.sc      a.scn.scd.sc Pr.sci.scc.sce.sc       Th.sce.sc Gr.sca.scd.sce.sc Ga.scm.sce.sc The following game is a slightly modiﬁed version of The Grade Game from Open Yale course on Game Theory1. IPick the player you want to be 1 or 2. Write down on a paper either the letter or the letter . Think of this as a ’grade bid’. Here is how grades may be assigned for this course. IIfPlayer1puts andplayer2puts , and player 2 gets C. IIf both player 1 and player 2 put , then both players get B. IIf player 1 put and player 2 puts , then player 1 gets C, and player 2 gets A. IIf both players put , then both get B+. IThepossiblechoices, orarecalled’strategies’. Thegrades: for example (A;C)are called ’outcomes’. 677Copyright  t.sco.sc Ga.scm.sce.sc   Fo.scr.scm.sc Ga.scm.sce.scs.sc  a.sc Ga.scm.sce.sc: Na.scs.sch.sc      a.scn.scd.sc Pr.sci.scc.sce.sc         o.scf.sc Ga.scm.sce.scs.sc We can record such information as follows: Example 1: The Grade Game Player 2   Player 1B;BA;C C;AB+;B+ Table: Outcome Matrix 777Copyright  t.sco.sc Ga.scm.sce.sc   Fo.scr.scm.sc Ga.scm.sce.scs.sc  a.sc Ga.scm.sce.sc: Na.scs.sch.sc      a.scn.scd.sc Pr.sci.scc.sce.sc       Wh.sca.sct.sc ..? IWhat strategy should a rational person choose in the above Grade game? IIn order to answer the above question, we ﬁrst need to know the answer to the following question: What does this person care about? IIn other words what ’payoﬀ’ does each outcome yield for this person? 877Copyright  t.sco.sc Ga.scm.sce.sc   Fo.scr.scm.sc Ga.scm.sce.scs.sc  a.sc Ga.scm.sce.sc: Na.scs.sch.sc      a.scn.scd.sc Pr.sci.scc.sce.sc        IGame Theory cannot tell us what payoﬀs to assign to outcomes. IThis depends on the preferences and moral sentiments? of the players, not just player 1’s but also the opponent player 2’s. IBut Game Theory has a lot to say about how to play the game once payoﬀs are known. IPossible payoﬀs: Selfinterested players. For example, if every player is selfinterested, each only caring about her own grade then (assuming she prefers A to B etc.) the payoﬀs might be as follows. 977Copyright  t.sco.sc Ga.scm.sce.sc   Fo.scr.scm.sc Ga.scm.sce.scs.sc  a.sc Ga.scm.sce.sc: Na.scs.sch.sc      a.scn.scd.sc Pr.sci.scc.sce.sc       Th.sce.sc   (  two.taboldstyle’s.sc ) Player 2 # #   Player 16;68;5 5;87;7 Table: Payoﬀ Matrix 1077Copyright  t.sco.sc Ga.scm.sce.sc   Fo.scr.scm.sc Ga.scm.sce.scs.sc  a.sc Ga.scm.sce.sc: Na.scs.sch.sc      a.scn.scd.sc Pr.sci.scc.sce.sc       Ho.scw.sc t.sco.sc Pl.sca.scy.sc t.sch.sce.sc Ga.scm.sce.sc? What should player 1 choose in this case? IIf player 2 chooses , then player 1 choosing yields her 6 whereas Player 1 choosing yields her only 5. IIf player 2 chooses , then player 1 choosing yields her 8 whereas choosing yields her only 7. IConclusion: So, in either case, player 1 choosing is better. IThe same conclusion can be drawn for Player 2 as well. 1177Copyright  t.sco.sc Ga.scm.sce.sc   Fo.scr.scm.sc Ga.scm.sce.scs.sc  a.sc Ga.scm.sce.sc: Na.scs.sch.sc      a.scn.scd.sc Pr.sci.scc.sce.sc       Th.sce.sc   (  one.taboldstyle’s.sc ) Player 2   Player 1!6;68;5 !5;87;7 Table: Payoﬀ Matrix 1277Copyright  t.sco.sc Ga.scm.sce.sc   Fo.scr.scm.sc Ga.scm.sce.scs.sc  a.sc Ga.scm.sce.sc: Na.scs.sch.sc      a.scn.scd.sc Pr.sci.scc.sce.sc       Th.sce.sc   (w.sci.sct.sch.sc Na.scs.sch.sc  i.scn.sc t.sch.sce.sc  b.sco.scx.sc) Player 2   Player 16;68;5 5;87;7 Table: Payoﬀ Matrix (Best responses from page 10 and 11) 1377Copyright  t.sco.sc Ga.scm.sce.sc   Fo.scr.scm.sc Ga.scm.sce.scs.sc  a.sc Ga.scm.sce.sc: Na.scs.sch.sc      a.scn.scd.sc Pr.sci.scc.sce.sc        IFormally, we say: Deﬁnition 1 : For player 1 her strategy strictly dominates her strategyif her payoﬀ from is strictly higher than that from  regardless of others’ choices. [A formal deﬁnition with notation is later in the lecture] IDeﬁnition 2 : Player 1’s strategy weakly dominates her strategy if her payoﬀ from is as high as that from regardless of others’ choices, and is strictly higher for at least one such choice.] 1477Copyright  t.sco.sc Ga.scm.sce.sc   Fo.scr.scm.sc Ga.scm.sce.scs.sc  a.sc Ga.scm.sce.sc: Na.scs.sch.sc      a.scn.scd.sc Pr.sci.scc.sce.sc       ILESSON 1 : You should never play a strictly dominat edstrategy. IUnfortunately, the reasoning is the same for player 2: given these payoﬀs, she will also choose . They will both end up getting Beven though there is a possible outcome (B+,B+) that is better for both of them. To use some economics jargon: the outcome (B,B) is Pareto ineﬃcient. ILESSON 2 : Rational play by rational players can lead to bad outcomes. Games like this one are called Prisoners’ Dilemmas . Other examples of prisoners’ dilemmas include: Price wars; stockpiling of pasta and other items during crisis?! IRemedies include: contracts enforced by the courts or by the Maﬁa; repeated play (we will return to this later in this block). 1577Copyright  t.sco.sc Ga.scm.sce.sc   Fo.scr.scm.sc Ga.scm.sce.scs.sc  a.sc Ga.scm.sce.sc: Na.scs.sch.sc      a.scn.scd.sc Pr.sci.scc.sce.sc       IHome work exercise : Set up a Prisoners’ Dilemma game for the current stockpiling of certain grocery items during crisis situation and analyse it. Discuss the argument leading up to the Nash Equilibrium. 1677Copyright  t.sco.sc Ga.scm.sce.sc   Fo.scr.scm.sc Ga.scm.sce.scs.sc  a.sc Ga.scm.sce.sc: Na.scs.sch.sc      a.scn.scd.sc Pr.sci.scc.sce.sc       Ot.sch.sce.scr.sc   IOther possible payoﬀs for the grade game: Indignant caring players. IIn contrast to the case where all players are selfinterested,  also about the grade of the person with whom she is paired. IFor example, each player might be an indignantly caring person: she likes getting an A but she feels guilty that this is at the expense of her pair getting a C. The guilt lowers her payoﬀ from 8 to 5.  reduces the payoﬀ from 5 to 3. In this case, payoﬀs would be: 1777Copyright  t.sco.sc Ga.scm.sce.sc   Fo.scr.scm.sc Ga.scm.sce.scs.sc  a.sc Ga.scm.sce.sc: Na.scs.sch.sc      a.scn.scd.sc Pr.sci.scc.sce.sc         two.taboldstyle Player 2   Player 16;65;3 3;57;7 Table: Payoﬀ Matrix 1877Copyright  t.sco.sc Ga.scm.sce.sc   Fo.scr.scm.sc Ga.scm.sce.scs.sc  a.sc Ga.scm.sce.sc: Na.scs.sch.sc      a.scn.scd.sc Pr.sci.scc.sce.sc        IWhat should player 1 choose in this case? IAs before, if player 2 chooses , then player 1 choosing yields a higher payoﬀ to her than her choosing . IIf player 2 chooses , however, then for player 1 yields a higher payoﬀ to her than her choosing . IIn this case, no strategy is dominat ed. The best choice depends on what player 1 thinks player 2 is likely to do. Games like this are called coordination games. We will examine some more later.  for Player 2. Try this at home! 1977Copyright  t.sco.sc Ga.scm.sce.sc   Fo.scr.scm.sc Ga.scm.sce.scs.sc  a.sc Ga.scm.sce.sc: Na.scs.sch.sc      a.scn.scd.sc Pr.sci.scc.sce.sc        three.taboldstyle ILESSON 3 : To ﬁgure out what actions you should choose in a game, a good ﬁrst step is to ﬁgure out what are your payoﬀs (what do you care about) and what are other players’ payoﬀs. 2077Copyright  t.sco.sc Ga.scm.sce.sc   Fo.scr.scm.sc Ga.scm.sce.scs.sc  a.sc Ga.scm.sce.sc: Na.scs.sch.sc      a.scn.scd.sc Pr.sci.scc.sce.sc        Introduction to Game Theory Strategic Form Games Solving a Game: Nash Equilibrium Dominated strategies Applications Quantity and Price Competition Cournot competition Bertrand competition   t.sco.sc Ga.scm.sce.sc   Fo.scr.scm.sc Ga.scm.sce.scs.sc  a.sc Ga.scm.sce.sc: Na.scs.sch.sc      a.scn.scd.sc Pr.sci.scc.sce.sc       IGames with perfect information Ivon Neumann and Morgenstern (1944) Theory of Games and Economic Behavior IRational choice: action chosen by a decisionmaker is at least as good, according to her preferences, as every other available action. 2277Copyright  t.sco.sc Ga.scm.sce.sc   Fo.scr.scm.sc Ga.scm.sce.scs.sc  a.sc Ga.scm.sce.sc: Na.scs.sch.sc      a.scn.scd.sc Pr.sci.scc.sce.sc        o.scf.sc a.sc Ga.scm.sce.sc Players: People who are involved in the game Strategies: The actions they can choose Payoﬀs 2377Copyright  t.sco.sc Ga.scm.sce.sc   Fo.scr.scm.sc Ga.scm.sce.scs.sc  a.sc Ga.scm.sce.sc: Na.scs.sch.sc      a.scn.scd.sc Pr.sci.scc.sce.sc        Ga.scm.sce.scs.sc w.sci.sct.sch.sc   IPlayer 1 chooses an action a1, from a set of feasible actions A1. ISimultaneously, player 2 chooses an action a2from a set of feasible actions A2. IAfter the players choose their actions, they receive payoﬀs: Iu1(a1;a2)to player 1 and u2(a1;a2)to player 2. IThus, Game theory analyzes situations in which one person’s behaviour aﬀects the payoﬀ of the other. This is called interdependence. IIn general, game theory is concerned with how rational individuals make decisions when they are mutually interdependent. 2477Copyright  t.sco.sc Ga.scm.sce.sc   Fo.scr.scm.sc Ga.scm.sce.scs.sc  a.sc Ga.scm.sce.sc: Na.scs.sch.sc      a.scn.scd.sc Pr.sci.scc.sce.sc         o.scf.sc Ga.scm.sce.scs.sc Example 1: Chicken Player 2 Straight Swerve Player 1Straight 0;03;1 Swerve 1;32;2 2577Copyright  t.sco.sc Ga.scm.sce.sc   Fo.scr.scm.sc Ga.scm.sce.scs.sc  a.sc Ga.scm.sce.sc: Na.scs.sch.sc      a.scn.scd.sc Pr.sci.scc.sce.sc         o.scf.sc Ga.scm.sce.scs.sc Example 2: Choosing a Restaurant Ashley P V MarkP8;62;2 V0;06;8 2677Copyright  t.sco.sc Ga.scm.sce.sc   Fo.scr.scm.sc Ga.scm.sce.scs.sc  a.sc Ga.scm.sce.sc: Na.scs.sch.sc      a.scn.scd.sc Pr.sci.scc.sce.sc        i.scn.sc a.sc Te.sca.scm.sc 2 players Playerichooses eﬀort ai0 Jointly produce a product. Each enjoys an amount (a1;a2) =a1+a2+a1a2 2 Cost of eﬀort is a2 i ui(a1;a2) =(a1;a2)a2 i 2777Copyright  t.sco.sc Ga.scm.sce.sc   Fo.scr.scm.sc Ga.scm.sce.scs.sc  a.sc Ga.scm.sce.sc: Na.scs.sch.sc      a.scn.scd.sc Pr.sci.scc.sce.sc        Introduction to Game Theory Strategic Form Games Solving a Game: Nash Equilibrium Dominated strategies Applications Quantity and Price Competition Cournot competition Bertrand competition   t.sco.sc Ga.scm.sce.sc   Fo.scr.scm.sc Ga.scm.sce.scs.sc  a.sc Ga.scm.sce.sc: Na.scs.sch.sc      a.scn.scd.sc Pr.sci.scc.sce.sc       Na.scs.sch.sc  An action proﬁle with the property that no player can do better given that other players adhere to their actions . 1 Figure: John Nash (June 13, 1928 May 23, 2015) 1https:. 2977Copyright  t.sco.sc Ga.scm.sce.sc   Fo.scr.scm.sc Ga.scm.sce.scs.sc  a.sc Ga.scm.sce.sc: Na.scs.sch.sc      a.scn.scd.sc Pr.sci.scc.sce.sc        a.scn.scd.sc   o.scf.sc NE Playeri’s strategy (also called action) Iai Set of all possible strategies for Player i IAi Strategy proﬁle (one strategy for each player) Ia= (a1;a2;:::;an) Strategy proﬁle for all players except i Iai= (a1;a2;:::;ai1;ai+1;:::;aN) So, a strategy proﬁle can also be written as Ia= (ai;ai) 3077Copyright  t.sco.sc Ga.scm.sce.sc   Fo.scr.scm.sc Ga.scm.sce.scs.sc  a.sc Ga.scm.sce.sc: Na.scs.sch.sc      a.scn.scd.sc Pr.sci.scc.sce.sc       Ba.scc.sch.sc o.scr.sc  Player 2 Bach Stravinsky Player 1Bach 2;10;0 Stravinsky 0;01;2 Ai=fBach;Stravinskyg 4 strategy proﬁles: (Bach;Bach);(Bach;Stravinsky );(Stravinsky;Bach);(Stravinsky;Stravinsky ) 3177Copyright  t.sco.sc Ga.scm.sce.sc   Fo.scr.scm.sc Ga.scm.sce.scs.sc  a.sc Ga.scm.sce.sc: Na.scs.sch.sc      a.scn.scd.sc Pr.sci.scc.sce.sc        Player 2 Straight Swerve Player 1Straight 0;03;1 Swerve 1;32;2 Ai=fStraight, Swerveg 4 strategy proﬁles: (Straight, Straight), (Straight, Swerve), (Swerve, Straight), (Swerve, Swerve) 3277Copyright  t.sco.sc Ga.scm.sce.sc   Fo.scr.scm.sc Ga.scm.sce.scs.sc  a.sc Ga.scm.sce.sc: Na.scs.sch.sc      a.scn.scd.sc Pr.sci.scc.sce.sc        a.sc  w.sci.sct.sch.sc three.taboldstyle  Ai= [0;10] IPlayerican choose any real number between 0 and 10 a= (a1=1;a2=4;a3=7) = (1;4;7) IAn example of a strategy proﬁle a2= (1;7) ISame strategy proﬁle, with player 2’s strategy omitted a= (a2;a2) = ((1;7);4) IReconstructing the strategy proﬁle 3377Copyright  t.sco.sc Ga.scm.sce.sc   Fo.scr.scm.sc Ga.scm.sce.scs.sc  a.sc Ga.scm.sce.sc: Na.scs.sch.sc      a.scn.scd.sc Pr.sci.scc.sce.sc        o.scf.sc  Players’ payoﬀs are deﬁned over strategy proﬁles IA strategy proﬁle implies an outcome of the game Playeri’s payoﬀ from the strategy proﬁle ais ui(a) =ui(a1;a2) Playeri’s payoﬀ if she chooses aiand others play as in ai ui(ai;ai) With two players, for example, player 1’s payoﬀ at an action proﬁle a= (a1;a2)is u1(a1;a2) 3477Copyright  t.sco.sc Ga.scm.sce.sc   Fo.scr.scm.sc Ga.scm.sce.scs.sc  a.sc Ga.scm.sce.sc: Na.scs.sch.sc      a.scn.scd.sc Pr.sci.scc.sce.sc       Na.scs.sch.sc  IConsider a game with Nplayers. Nash equilibrium A strategy proﬁle a= (a 1;a 2;:::;a n)is aNash equilibrium of the game if, for every player i ui(a i;ai)ui(a0 i;ai) for every action aiof player i. 3577Copyright  t.sco.sc Ga.scm.sce.sc   Fo.scr.scm.sc Ga.scm.sce.scs.sc  a.sc Ga.scm.sce.sc: Na.scs.sch.sc      a.scn.scd.sc Pr.sci.scc.sce.sc       Be.scs.sct.sc  A strategy, ai, is abest response of Player igivenai, if ui(ai;ai)ui(a0 i;ai) for allai2Ai. IWe useBi(ai)to denote this. 3677Copyright  t.sco.sc Ga.scm.sce.sc   Fo.scr.scm.sc Ga.scm.sce.scs.sc  a.sc Ga.scm.sce.sc: Na.scs.sch.sc      a.scn.scd.sc Pr.sci.scc.sce.sc       Na.scs.sch.sc   IConsider a game with Nplayers. Nash equilibrium A strategy proﬁle a= (a 1;a 2;:::;a n)is aNash equilibrium of the game ifa iis a best response to a ifor each i=1;2;:::;n. 3777Copyright  t.sco.sc Ga.scm.sce.sc   Fo.scr.scm.sc Ga.scm.sce.scs.sc  a.sc Ga.scm.sce.sc: Na.scs.sch.sc      a.scn.scd.sc Pr.sci.scc.sce.sc        Player 2 Straight Swerve Player 1Straight 0;03;1 Swerve 1;32;2 3877Copyright  t.sco.sc Ga.scm.sce.sc   Fo.scr.scm.sc Ga.scm.sce.scs.sc  a.sc Ga.scm.sce.sc: Na.scs.sch.sc      a.scn.scd.sc Pr.sci.scc.sce.sc        Player 2 Straight Swerve Player 1Straight 0;03;1 Swerve 1;32;2 3977Copyright  t.sco.sc Ga.scm.sce.sc   Fo.scr.scm.sc Ga.scm.sce.scs.sc  a.sc Ga.scm.sce.sc: Na.scs.sch.sc      a.scn.scd.sc Pr.sci.scc.sce.sc       ’s.sc  Suspect 2 Quiet Fink Suspect 1Quiet 2;20;3 Fink 3;01;1 4077Copyright  t.sco.sc Ga.scm.sce.sc   Fo.scr.scm.sc Ga.scm.sce.scs.sc  a.sc Ga.scm.sce.sc: Na.scs.sch.sc      a.scn.scd.sc Pr.sci.scc.sce.sc       ’s.sc  Suspect 2 Quiet Fink Suspect 1Quiet 2;20;3 Fink 3;01,1 I(F,F) is the Nash equilibrium IIt is not eﬃcient, because there is another strategy proﬁle (Quiet, Quiet) where both players would have a higher payoﬀ. 4077Copyright  t.sco.sc Ga.scm.sce.sc   Fo.scr.scm.sc Ga.scm.sce.scs.sc  a.sc Ga.scm.sce.sc: Na.scs.sch.sc      a.scn.scd.sc Pr.sci.scc.sce.sc         Ga.scm.sce.sc Player 2 L R Player 1U10;23;4 D1;05;7 4177Copyright  t.sco.sc Ga.scm.sce.sc   Fo.scr.scm.sc Ga.scm.sce.scs.sc  a.sc Ga.scm.sce.sc: Na.scs.sch.sc      a.scn.scd.sc Pr.sci.scc.sce.sc        Introduction to Game Theory Strategic Form Games Solving a Game: Nash Equilibrium Dominated strategies Applications Quantity and Price Competition Cournot competition Bertrand competition   t.sco.sc Ga.scm.sce.sc   Fo.scr.scm.sc Ga.scm.sce.scs.sc  a.sc Ga.scm.sce.sc: Na.scs.sch.sc      a.scn.scd.sc Pr.sci.scc.sce.sc         IPlayeri’s action aistrictly dominates actiona0 iif ui(ai;ai)>ui(a0 i;ai) for every list aiof other players’ actions. IA strictly dominated action is never part of a Nash equilibrium. IPlayeri’s action aiweakly dominates actiona0 iif ui(ai;ai)ui(a0 i;ai) for every list aiof other players’ actions and ui(ai;ai)>ui(a0 i;ai) for some list aiof other players’ actions. IA weakly dominated action may be part of a Nash equilibrium! 4377Copyright  t.sco.sc Ga.scm.sce.sc   Fo.scr.scm.sc Ga.scm.sce.scs.sc  a.sc Ga.scm.sce.sc: Na.scs.sch.sc      a.scn.scd.sc Pr.sci.scc.sce.sc        Player 2 Left Right Player 1Top 1;12;0 Bottom 0;22;2 4477Copyright  t.sco.sc Ga.scm.sce.sc   Fo.scr.scm.sc Ga.scm.sce.scs.sc  a.sc Ga.scm.sce.sc: Na.scs.sch.sc      a.scn.scd.sc Pr.sci.scc.sce.sc        Player 2 Left Right Player 1Top 1;12;0 Bottom 0;22;2 IPlayer 1’s action Bottom is weakly dominated by Top IPlayer 2’s action Right is weakly dominated by Left INevertheless, two Nash equilibria: I(Top, Left) I(Bottom, Right) 4477Copyright  t.sco.sc Ga.scm.sce.sc   Fo.scr.scm.sc Ga.scm.sce.scs.sc  a.sc Ga.scm.sce.sc: Na.scs.sch.sc      a.scn.scd.sc Pr.sci.scc.sce.sc        o.scf.sc    Player 2 Left Middle Right Player 1Up1;01;20;1 Down 0;30;12;0 4577Copyright  t.sco.sc Ga.scm.sce.sc   Fo.scr.scm.sc Ga.scm.sce.scs.sc  a.sc Ga.scm.sce.sc: Na.scs.sch.sc      a.scn.scd.sc Pr.sci.scc.sce.sc        o.scf.sc    Player 2 Left Middle Right Player 1Up1;01;20;1 Down 0;30;12;0 IPlayer 1 has no strictly dominated strategy IUp is better than Down if 2 plays Left (because 1 >0) 4577Copyright  t.sco.sc Ga.scm.sce.sc   Fo.scr.scm.sc Ga.scm.sce.scs.sc  a.sc Ga.scm.sce.sc: Na.scs.sch.sc      a.scn.scd.sc Pr.sci.scc.sce.sc        o.scf.sc    Player 2 Left Middle Right Player 1Up1;01;20;1 Down 0;30;12;0 IDown is better than Up if 2 plays Right (because 2 >0). 4577Copyright  t.sco.sc Ga.scm.sce.sc   Fo.scr.scm.sc Ga.scm.sce.scs.sc  a.sc Ga.scm.sce.sc: Na.scs.sch.sc      a.scn.scd.sc Pr.sci.scc.sce.sc        o.scf.sc    Player 2 Left Middle Right Player 1Up1;01;20;1 Down 0;30;12;0 IFor player 2, Right is strictly dominated by Middle (because 2>1 and 1>0), so a rational player 2 will not play Right. 4677Copyright  t.sco.sc Ga.scm.sce.sc   Fo.scr.scm.sc Ga.scm.sce.scs.sc  a.sc Ga.scm.sce.sc: Na.scs.sch.sc      a.scn.scd.sc Pr.sci.scc.sce.sc        o.scf.sc    IThus, if player 1 knows that player 2 is rational then player 1 can eliminate Right from player 2’s strategy space. Player 2 Left Middle Player 1Up1;01;2 Down 0;30;1 4777Copyright  t.sco.sc Ga.scm.sce.sc   Fo.scr.scm.sc Ga.scm.sce.scs.sc  a.sc Ga.scm.sce.sc: Na.scs.sch.sc      a.scn.scd.sc Pr.sci.scc.sce.sc        o.scf.sc    IThus, if player 1 knows that player 2 is rational then player 1 can eliminate Right from player 2’s strategy space. Player 2 Left Middle Player 1Up1;01;2 Down 0;30;1 IDown is strictly dominated by Up for player 1 ISo, we know that player 1 will not play Down. 4777Copyright  t.sco.sc Ga.scm.sce.sc   Fo.scr.scm.sc Ga.scm.sce.scs.sc  a.sc Ga.scm.sce.sc: Na.scs.sch.sc      a.scn.scd.sc Pr.sci.scc.sce.sc        o.scf.sc    Player 2 Left Middle Player 1Up1;01;2 4877Copyright  t.sco.sc Ga.scm.sce.sc   Fo.scr.scm.sc Ga.scm.sce.scs.sc  a.sc Ga.scm.sce.sc: Na.scs.sch.sc      a.scn.scd.sc Pr.sci.scc.sce.sc        o.scf.sc    Player 2 Left Middle Player 1Up1;01;2 IPlayer 2 chooses Middle INE: (Up, Middle) 4877Copyright  t.sco.sc Ga.scm.sce.sc   Fo.scr.scm.sc Ga.scm.sce.scs.sc  a.sc Ga.scm.sce.sc: Na.scs.sch.sc      a.scn.scd.sc Pr.sci.scc.sce.sc         Strictly dominant strategy An action aiis strictly dominant if it strictly dominates every action in Ai Weakly dominant strategy It is called weakly dominant if it weakly dominates every action in Ai 4977Copyright  t.sco.sc Ga.scm.sce.sc   Fo.scr.scm.sc Ga.scm.sce.scs.sc  a.sc Ga.scm.sce.sc: Na.scs.sch.sc      a.scn.scd.sc Pr.sci.scc.sce.sc        Introduction to Game Theory Strategic Form Games Solving a Game: Nash Equilibrium Dominated strategies Applications Quantity and Price Competition Cournot competition Bertrand competition   t.sco.sc Ga.scm.sce.sc   Fo.scr.scm.sc Ga.scm.sce.scs.sc  a.sc Ga.scm.sce.sc: Na.scs.sch.sc      a.scn.scd.sc Pr.sci.scc.sce.sc        Altria Don’t Advertise Advertise Reynolds AmericanDon’t Advertise $50m;$50m $25m;$60m Advertise $60m;$25m $40m;$40m Table: Payoﬀ Matrix 5177Copyright  t.sco.sc Ga.scm.sce.sc   Fo.scr.scm.sc Ga.scm.sce.scs.sc  a.sc Ga.scm.sce.sc: Na.scs.sch.sc      a.scn.scd.sc Pr.sci.scc.sce.sc        Altria Don’t Advertise Advertise Reynolds AmericanDon’t Advertise $50m;$50m $25m,$60m Advertise $60m,$25m $40m,$40m Table: Payoﬀ Matrix 5277Copyright  t.sco.sc Ga.scm.sce.sc   Fo.scr.scm.sc Ga.scm.sce.scs.sc  a.sc Ga.scm.sce.sc: Na.scs.sch.sc      a.scn.scd.sc Pr.sci.scc.sce.sc        Introduction to Game Theory Strategic Form Games Solving a Game: Nash Equilibrium Dominated strategies Applications Quantity and Price Competition Cournot competition Bertrand competition   t.sco.sc Ga.scm.sce.sc   Fo.scr.scm.sc Ga.scm.sce.scs.sc  a.sc Ga.scm.sce.sc: Na.scs.sch.sc      a.scn.scd.sc Pr.sci.scc.sce.sc        a.scn.scd.sc   IWhat to produceprocure and sell, how much, and at what price is a key business decision all ﬁrms must make. INote: In the Cournot model, ﬁrms choose quantities but allow the market price to vary freely. In the Bertrand model, they choose prices and sell as much as they can. 5477Copyright  t.sco.sc Ga.scm.sce.sc   Fo.scr.scm.sc Ga.scm.sce.scs.sc  a.sc Ga.scm.sce.sc: Na.scs.sch.sc      a.scn.scd.sc Pr.sci.scc.sce.sc        Introduction to Game Theory Strategic Form Games Solving a Game: Nash Equilibrium Dominated strategies Applications Quantity and Price Competition Cournot competition Bertrand competition   t.sco.sc Ga.scm.sce.sc   Fo.scr.scm.sc Ga.scm.sce.scs.sc  a.sc Ga.scm.sce.sc: Na.scs.sch.sc      a.scn.scd.sc Pr.sci.scc.sce.sc         2 2https:  5677Copyright  t.sco.sc Ga.scm.sce.sc   Fo.scr.scm.sc Ga.scm.sce.scs.sc  a.sc Ga.scm.sce.sc: Na.scs.sch.sc      a.scn.scd.sc Pr.sci.scc.sce.sc        :  Ap.scr.sci.scl.sc  IParticularly important in markets where there is a direct (inverse) relationship between the quantity in the market and the market price. IOil prices rose on Thursday on expectations the world’s largest oil  the industry grapples with a coronavirusdriven collapse in global oil demand. ISource: ( https: . html) 5777Copyright  t.sco.sc Ga.scm.sce.sc   Fo.scr.scm.sc Ga.scm.sce.scs.sc  a.sc Ga.scm.sce.sc: Na.scs.sch.sc      a.scn.scd.sc Pr.sci.scc.sce.sc        :    I”Oil prices surged higher after OPEC, Russia and several other producers reached an agreement to cut output next year in order to boostthemarket. (:::) by1:. (:::)Brentcrude, the international benchmark for oil prices, rose $1.61, or 2.7 percent, to $61.67 a barrel. Brent earlier rose more than 5 percent to $63.73” ISource: ( https: . html) 5877Copyright  t.sco.sc Ga.scm.sce.sc   Fo.scr.scm.sc Ga.scm.sce.scs.sc  a.sc Ga.scm.sce.sc: Na.scs.sch.sc      a.scn.scd.sc Pr.sci.scc.sce.sc         w.sci.sct.sch.sc t.scw.sco.sc  () IA classical model commonly used to understand quantity competition. IConsider a market with two competing ﬁrms selling a homogeneous good. IFirm 1’s marginal cost is c1=20 and Firm 2’s is c2=40. IDemand is given by P=140(q1+q2) 5977Copyright  t.sco.sc Ga.scm.sce.sc   Fo.scr.scm.sc Ga.scm.sce.scs.sc  a.sc Ga.scm.sce.sc: Na.scs.sch.sc      a.scn.scd.sc Pr.sci.scc.sce.sc        w.sci.sct.sch.sc   I IFirm 1’s proﬁt is: 1(q1) =Pq1c1q1 = (140q1q2)q120q1 = (140q1q2 1q2q1)20q1:(1) ITo ﬁnd the proﬁt maximizing quantity, diﬀerentiate the proﬁt function with respect to q1and set it equal to zero: d1 dq1= (1402q1q2)20=0: (2) IThis gives us the reaction function orreaction curve forq1as a function of q2. q1(q2) =60q2 2: (3) 6077Copyright  t.sco.sc Ga.scm.sce.sc   Fo.scr.scm.sc Ga.scm.sce.scs.sc  a.sc Ga.scm.sce.sc: Na.scs.sch.sc      a.scn.scd.sc Pr.sci.scc.sce.sc        w.sci.sct.sch.sc   REACTION CURVE OF FIRM 1 IIf Firm 1 thinks q2=0, then Firm 1 chooses an output of 60. IBut if Firm 1 thinks Firm 2 will set q2=120 and drive the price down to marginal cost (see the next point for reason), then Firm 1 chooses to produce zero. IBecause the total market demand is given by P=140q1q2; if q2=120, then we have 140 q1120=20q1. IWith the remaining market demand at P=20q1, ifq1tries to produce 10 units, then price will be 10, but Firm 1’s MC is 20, so . . ISo,Firm 1’s reaction curve goes from 60 on the yaxis to 120 on the xaxis. 6177Copyright  t.sco.sc Ga.scm.sce.sc   Fo.scr.scm.sc Ga.scm.sce.scs.sc  a.sc Ga.scm.sce.sc: Na.scs.sch.sc      a.scn.scd.sc Pr.sci.scc.sce.sc        w.sci.sct.sch.sc   REACTION CURVE OF FIRM 1 q1 q260 120 6277Copyright  t.sco.sc Ga.scm.sce.sc   Fo.scr.scm.sc Ga.scm.sce.scs.sc  a.sc Ga.scm.sce.sc: Na.scs.sch.sc      a.scn.scd.sc Pr.sci.scc.sce.sc        w.sci.sct.sch.sc   I INow let’s do the same for Firm 2. Firm 2’s proﬁt is: 2(q2) =Pq240q2 = (140q1q2)q240q2 = (140q2q2 2q2q1)40q2:(4) ITake proﬁt’s derivative with respect to q2and set it to zero: d2 dq2= (1402q2q1)40=0: (5) IThis gives us the reaction function forq2as a function of q1. q2(q1) =50q1 2: (6) 6377Copyright  t.sco.sc Ga.scm.sce.sc   Fo.scr.scm.sc Ga.scm.sce.scs.sc  a.sc Ga.scm.sce.sc: Na.scs.sch.sc      a.scn.scd.sc Pr.sci.scc.sce.sc        w.sci.sct.sch.sc   IAt the extremes, if Firm 2 thinks q1=0, then Firm 2 chooses to produce 50. If Firm 2 thinks Firm 1 will set q1=100 and drive the price down, then Firm 2 chooses to produce zero. IThus,Firm2’ the xaxis. 6477Copyright  t.sco.sc Ga.scm.sce.sc   Fo.scr.scm.sc Ga.scm.sce.scs.sc  a.sc Ga.scm.sce.sc: Na.scs.sch.sc      a.scn.scd.sc Pr.sci.scc.sce.sc       REACTION CURVE OF FIRM 2 q1 q2100 5060 120Firm 2’s reaction curve Firm 1’s reaction curve 6577Copyright  t.sco.sc Ga.scm.sce.sc   Fo.scr.scm.sc Ga.scm.sce.scs.sc  a.sc Ga.scm.sce.sc: Na.scs.sch.sc      a.scn.scd.sc Pr.sci.scc.sce.sc        w.sci.sct.sch.sc   I IWhat is the value of q2that Firm 2 will actually pick? IWe ﬁnd this by solving the two reaction curves at the same time. Remember q1(q2) =60q2 2 q2(q1) =50q1 2 IPlugging the ﬁrst one into the second one gives us q2(q1) =5060q2 2 2 =5030+q2 4 =20+q2 4 6677Copyright  t.sco.sc Ga.scm.sce.sc   Fo.scr.scm.sc Ga.scm.sce.scs.sc  a.sc Ga.scm.sce.sc: Na.scs.sch.sc      a.scn.scd.sc Pr.sci.scc.sce.sc        w.sci.sct.sch.sc   II ISo we get q2=20+q2 4 ISolving this yields q 2=80 3 IWe can substitute q 2intoq1(q2)to get q 1=6080 3 2 =140 3 IWe can ﬁnd the price using the demand equation P=140140 380 3=671 3 6777Copyright  t.sco.sc Ga.scm.sce.sc   Fo.scr.scm.sc Ga.scm.sce.scs.sc  a.sc Ga.scm.sce.sc: Na.scs.sch.sc      a.scn.scd.sc Pr.sci.scc.sce.sc        w.sci.sct.sch.sc   GRAPHICAL ILLUSTRATION q1 q2100 5060 120Firm 2’s reaction curve Firm 1’s reaction curveEquilibrium point 80 3140 3 6877Copyright  t.sco.sc Ga.scm.sce.sc   Fo.scr.scm.sc Ga.scm.sce.scs.sc  a.sc Ga.scm.sce.sc: Na.scs.sch.sc      a.scn.scd.sc Pr.sci.scc.sce.sc        Introduction to Game Theory Strategic Form Games Solving a Game: Nash Equilibrium Dominated strategies Applications Quantity and Price Competition Cournot competition Bertrand competition   t.sco.sc Ga.scm.sce.sc   Fo.scr.scm.sc Ga.scm.sce.scs.sc  a.sc Ga.scm.sce.sc: Na.scs.sch.sc      a.scn.scd.sc Pr.sci.scc.sce.sc         I INow we move on to price competition.  choose prices paandpb. IMarginal cost is constant at c=12. IDemand is Q(p) =120p; whereQis the total quantity sold. IThe Bertrand Game has a unique Nash equilibrium: pa=pb=c=12 , withqa=qb=54. IWHY? 7077Copyright  t.sco.sc Ga.scm.sce.sc   Fo.scr.scm.sc Ga.scm.sce.scs.sc  a.sc Ga.scm.sce.sc: Na.scs.sch.sc      a.scn.scd.sc Pr.sci.scc.sce.sc       IThe unique Nash Equilibrium here is both ﬁrms setting a price equal to Marginal Cost, i.e., pa=pb=c=12. INote (ﬁxing the other ﬁrm’s strategy) if either ﬁrm deviates to a higher price, it loses all its customers and so fails to increase its proﬁts to above zero (proﬁts remain at zero). So for either ﬁrm, there is no incentive to deviate and set a higher price. IGiven the other ﬁrm’s price at c, if one ﬁrm lowers the price to below marginal cost, it is worse oﬀ as the proﬁts become negative. Therefore, for either ﬁrm there is no incentive to deviate to a lower price. IThe Nash Equilibrium prices are pa=pb=12. Substituting the prices in the demand function will yield Q=12012=108. Each ﬁrm supplies half of the market output, i.e., qa=qb=108=2=54. 7177Copyright  t.sco.sc Ga.scm.sce.sc   Fo.scr.scm.sc Ga.scm.sce.scs.sc  a.sc Ga.scm.sce.sc: Na.scs.sch.sc      a.scn.scd.sc Pr.sci.scc.sce.sc         ITo show that there are no other Nash equilibria other than the strategy proﬁle (pa;pb) = (12;12), you can section the price and cost combinations as follows. IThe possibilities that should be checked will be a combination of both prices (or one of the prices) equal to c, both prices (or one of the prices) >cor<cand both prices are equal to each other or one price is bigger (or smaller) than the other price. 7277Copyright  t.sco.sc Ga.scm.sce.sc   Fo.scr.scm.sc Ga.scm.sce.scs.sc  a.sc Ga.scm.sce.sc: Na.scs.sch.sc      a.scn.scd.sc Pr.sci.scc.sce.sc       1.pa<corpb<c. In either of these cases, the ﬁrm with the lowest price will earn negative proﬁts, and could proﬁtably deviate to a price high enough to reduce its demand to zero. 2.pa>pb>corpb>pa>c.In either of these cases the ﬁrm with the higher price could deviate to a price below its rival and increase its proﬁts from zero to some positive value. 3.pa=pb>c. In this case, Acould deviate to a price less than B and its proﬁt would rise, because it would go from selling half the market quantity to selling all of it with an inﬁnitesimal decline in proﬁt per unit sale. 4.pa>pb=corpb>pa=c.  c could move from zero proﬁts to positive proﬁts by increasing its price slightly while keeping it below the other ﬁrm’s price. 7377Copyright  t.sco.sc Ga.scm.sce.sc   Fo.scr.scm.sc Ga.scm.sce.scs.sc  a.sc Ga.scm.sce.sc: Na.scs.sch.sc      a.scn.scd.sc Pr.sci.scc.sce.sc       Question 2. The Bertrand model generates zero proﬁts because only slight price discounts are needed to bid away customers. The assumption behind this is that the two ﬁrms sell identical goods. If customers have brand loyalty or poor price information, the equilibrium is diﬀerent. This exercise is an example of a diﬀerentiated Bertrand model. Let us now move to a diﬀerent duopoly market, where the demand curves facing AandBare qa=242pa+pb and qb=242pb+pa; and they have constant marginal costs of c=3 1. Find the prices and quantities set by each ﬁrm at the Nash equilibrium. Source: http:  7477Copyright  t.sco.sc Ga.scm.sce.sc   Fo.scr.scm.sc Ga.scm.sce.scs.sc  a.sc Ga.scm.sce.sc: Na.scs.sch.sc      a.scn.scd.sc Pr.sci.scc.sce.sc        I Proﬁt functions are a= (242pa+pb)(pac) and b= (242pb+pa)(pbc) (7) Maximizing A’s proﬁt, we obtain da dpa=244pa+pb+2c=0; (8) and the reaction function pa=6+c 2+1 4pb=7:5+1 4pb: (9) Since B has a parallel ﬁrstorder condition, the equilibrium occurs where pa=pb=10:The quantity each ﬁrm produces is 14, which is below what each would produce at prices of pa=pb=c=3. 7577Copyright  t.sco.sc Ga.scm.sce.sc   Fo.scr.scm.sc Ga.scm.sce.scs.sc  a.sc Ga.scm.sce.sc: Na.scs.sch.sc      a.scn.scd.sc Pr.sci.scc.sce.sc        Introduction to Game Theory Strategic Form Games Solving a Game: Nash Equilibrium Dominated strategies Applications Quantity and Price Competition Cournot competition Bertrand competition   t.sco.sc Ga.scm.sce.sc   Fo.scr.scm.sc Ga.scm.sce.scs.sc  a.sc Ga.scm.sce.sc: Na.scs.sch.sc      a.scn.scd.sc Pr.sci.scc.sce.sc        1.https: 7777'}}\n"
     ]
    }
   ],
   "source": [
    "print(filestest)"
   ]
  },
  {
   "cell_type": "code",
   "execution_count": null,
   "id": "23c40bbe-12a7-45d9-903c-d5e1cdfbc2a7",
   "metadata": {},
   "outputs": [],
   "source": []
  }
 ],
 "metadata": {
  "kernelspec": {
   "display_name": "Python 3 (ipykernel)",
   "language": "python",
   "name": "python3"
  },
  "language_info": {
   "codemirror_mode": {
    "name": "ipython",
    "version": 3
   },
   "file_extension": ".py",
   "mimetype": "text/x-python",
   "name": "python",
   "nbconvert_exporter": "python",
   "pygments_lexer": "ipython3",
   "version": "3.12.2"
  }
 },
 "nbformat": 4,
 "nbformat_minor": 5
}
